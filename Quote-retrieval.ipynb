{
 "cells": [
  {
   "cell_type": "code",
   "execution_count": 1,
   "id": "30b87d1e-5f03-41ed-a8e3-a186a49b7498",
   "metadata": {},
   "outputs": [],
   "source": [
    "# pip install transformers datasets huggingface_hub"
   ]
  },
  {
   "cell_type": "code",
   "execution_count": 2,
   "id": "65c083fc-befa-450e-8655-6774f68f5e7e",
   "metadata": {},
   "outputs": [
    {
     "name": "stderr",
     "output_type": "stream",
     "text": [
      "C:\\Users\\sarth\\AppData\\Local\\Programs\\Python\\Python312\\Lib\\site-packages\\tqdm\\auto.py:21: TqdmWarning: IProgress not found. Please update jupyter and ipywidgets. See https://ipywidgets.readthedocs.io/en/stable/user_install.html\n",
      "  from .autonotebook import tqdm as notebook_tqdm\n"
     ]
    }
   ],
   "source": [
    "from datasets import load_dataset\n",
    "ds = load_dataset(\"Abirate/english_quotes\")"
   ]
  },
  {
   "cell_type": "code",
   "execution_count": 3,
   "id": "4a1ead20-d0ad-41ef-9160-e6e44d8567cb",
   "metadata": {},
   "outputs": [],
   "source": [
    "data_f=ds[\"train\"].to_pandas()"
   ]
  },
  {
   "cell_type": "code",
   "execution_count": 4,
   "id": "4e617905-df0a-4219-ac74-6e9c4087e848",
   "metadata": {},
   "outputs": [
    {
     "data": {
      "text/html": [
       "<div>\n",
       "<style scoped>\n",
       "    .dataframe tbody tr th:only-of-type {\n",
       "        vertical-align: middle;\n",
       "    }\n",
       "\n",
       "    .dataframe tbody tr th {\n",
       "        vertical-align: top;\n",
       "    }\n",
       "\n",
       "    .dataframe thead th {\n",
       "        text-align: right;\n",
       "    }\n",
       "</style>\n",
       "<table border=\"1\" class=\"dataframe\">\n",
       "  <thead>\n",
       "    <tr style=\"text-align: right;\">\n",
       "      <th></th>\n",
       "      <th>quote</th>\n",
       "      <th>author</th>\n",
       "      <th>tags</th>\n",
       "    </tr>\n",
       "  </thead>\n",
       "  <tbody>\n",
       "    <tr>\n",
       "      <th>0</th>\n",
       "      <td>“Be yourself; everyone else is already taken.”</td>\n",
       "      <td>Oscar Wilde</td>\n",
       "      <td>[be-yourself, gilbert-perreira, honesty, inspi...</td>\n",
       "    </tr>\n",
       "    <tr>\n",
       "      <th>1</th>\n",
       "      <td>“I'm selfish, impatient and a little insecure....</td>\n",
       "      <td>Marilyn Monroe</td>\n",
       "      <td>[best, life, love, mistakes, out-of-control, t...</td>\n",
       "    </tr>\n",
       "    <tr>\n",
       "      <th>2</th>\n",
       "      <td>“Two things are infinite: the universe and hum...</td>\n",
       "      <td>Albert Einstein</td>\n",
       "      <td>[human-nature, humor, infinity, philosophy, sc...</td>\n",
       "    </tr>\n",
       "    <tr>\n",
       "      <th>3</th>\n",
       "      <td>“So many books, so little time.”</td>\n",
       "      <td>Frank Zappa</td>\n",
       "      <td>[books, humor]</td>\n",
       "    </tr>\n",
       "    <tr>\n",
       "      <th>4</th>\n",
       "      <td>“A room without books is like a body without a...</td>\n",
       "      <td>Marcus Tullius Cicero</td>\n",
       "      <td>[books, simile, soul]</td>\n",
       "    </tr>\n",
       "  </tbody>\n",
       "</table>\n",
       "</div>"
      ],
      "text/plain": [
       "                                               quote                 author  \\\n",
       "0     “Be yourself; everyone else is already taken.”            Oscar Wilde   \n",
       "1  “I'm selfish, impatient and a little insecure....         Marilyn Monroe   \n",
       "2  “Two things are infinite: the universe and hum...        Albert Einstein   \n",
       "3                   “So many books, so little time.”            Frank Zappa   \n",
       "4  “A room without books is like a body without a...  Marcus Tullius Cicero   \n",
       "\n",
       "                                                tags  \n",
       "0  [be-yourself, gilbert-perreira, honesty, inspi...  \n",
       "1  [best, life, love, mistakes, out-of-control, t...  \n",
       "2  [human-nature, humor, infinity, philosophy, sc...  \n",
       "3                                     [books, humor]  \n",
       "4                              [books, simile, soul]  "
      ]
     },
     "execution_count": 4,
     "metadata": {},
     "output_type": "execute_result"
    }
   ],
   "source": [
    "data_f.head()"
   ]
  },
  {
   "cell_type": "code",
   "execution_count": 5,
   "id": "964ce8e5-ed5c-41d0-b933-741fe4198eeb",
   "metadata": {},
   "outputs": [],
   "source": [
    "from nltk.corpus import stopwords\n",
    "stop_words = set(stopwords.words('english'))"
   ]
  },
  {
   "cell_type": "code",
   "execution_count": 6,
   "id": "dbf3d096-7834-4423-bfd6-ffe5ae39aaf7",
   "metadata": {},
   "outputs": [],
   "source": [
    "data_f['clean_quote']=data_f['quote'].str.lower()\n",
    "data_f['clean_quote'] = data_f['clean_quote'].apply(lambda x: ' '.join(\n",
    "    [word for word in str(x).split() if word.lower() not in stop_words]\n",
    "))"
   ]
  },
  {
   "cell_type": "code",
   "execution_count": 7,
   "id": "91a9e328-e19e-43af-91e4-f45eae3e7349",
   "metadata": {},
   "outputs": [],
   "source": [
    "import spacy\n",
    "\n",
    "nlp = spacy.load('en_core_web_sm')\n",
    "\n",
    "def lemmatize_with_spacy(text):\n",
    "    doc = nlp(text)\n",
    "    return \" \".join([token.lemma_ for token in doc])\n",
    "\n",
    "data_f['clean_quote'] = data_f['clean_quote'].apply(lemmatize_with_spacy)"
   ]
  },
  {
   "cell_type": "code",
   "execution_count": 8,
   "id": "0676690c-aaf6-4a04-a40e-20dd85fb1d4b",
   "metadata": {},
   "outputs": [],
   "source": [
    "import string\n",
    "def remove_punctuation(text):\n",
    "    return text.translate(str.maketrans('', '', string.punctuation))\n",
    "\n",
    "data_f['clean_quote'] = data_f['clean_quote'].apply(remove_punctuation)"
   ]
  },
  {
   "cell_type": "code",
   "execution_count": 9,
   "id": "90e1f695-9a28-4499-806e-8c1f7c738017",
   "metadata": {},
   "outputs": [],
   "source": [
    "import random\n",
    "\n",
    "def generate_queries(row):\n",
    "    author = row[\"author\"]\n",
    "    tags = row[\"tags\"]\n",
    "    queries = []\n",
    "\n",
    "    # Base queries\n",
    "    queries.append(f\"{author} quotes\")\n",
    "    queries.append(f\"Quotes by {author}\")\n",
    "    \n",
    "    if tags is not None and len(tags) > 0:\n",
    "        tag = random.choice(tags)\n",
    "        queries.append(f\"{author} quotes about {tag}\")\n",
    "        queries.append(f\"Quotes tagged with {tag}\")\n",
    "        queries.append(f\"Famous quotes on {tag}\")\n",
    "        queries.append(f\"Quotes related to {tag} by {author}\")\n",
    "\n",
    "    return queries\n",
    "\n",
    "# Storing the query, quote pairs for training\n",
    "training_data = []\n",
    "\n",
    "for _, row in data_f.iterrows():\n",
    "    quote = row['clean_quote']\n",
    "    queries = generate_queries(row)\n",
    "    for query in queries:\n",
    "        training_data.append((query, quote))"
   ]
  },
  {
   "cell_type": "code",
   "execution_count": 10,
   "id": "b34ddf56-6266-45f6-b6c1-b11175134c14",
   "metadata": {},
   "outputs": [],
   "source": [
    "# training_data[::5]"
   ]
  },
  {
   "cell_type": "code",
   "execution_count": 11,
   "id": "36dcaae9-152f-4b17-b31a-af8687c7ab1f",
   "metadata": {},
   "outputs": [],
   "source": [
    "# pip install sentence-transformers"
   ]
  },
  {
   "cell_type": "code",
   "execution_count": 12,
   "id": "b92d0727-0c69-4001-94b8-fbaa788f4448",
   "metadata": {},
   "outputs": [],
   "source": [
    "from sentence_transformers import InputExample\n",
    "\n",
    "train_examples = [\n",
    "    InputExample(texts=[query, quote]) for query, quote in training_data]"
   ]
  },
  {
   "cell_type": "code",
   "execution_count": 13,
   "id": "4a1dc717-ebbe-4f2b-9489-2a981b958d55",
   "metadata": {},
   "outputs": [],
   "source": [
    "from torch.utils.data import DataLoader\n",
    "\n",
    "train_dataloader = DataLoader(train_examples, shuffle=True, batch_size=16)"
   ]
  },
  {
   "cell_type": "code",
   "execution_count": 14,
   "id": "dc328103-5e35-457e-8a10-bf7404d929b4",
   "metadata": {},
   "outputs": [],
   "source": [
    "from sentence_transformers import SentenceTransformer, losses\n",
    "model = SentenceTransformer('all-MiniLM-L6-v2')"
   ]
  },
  {
   "cell_type": "code",
   "execution_count": 15,
   "id": "d61feedf-50a8-47dd-985d-14755e78e2b4",
   "metadata": {},
   "outputs": [],
   "source": [
    "train_loss = losses.MultipleNegativesRankingLoss(model)"
   ]
  },
  {
   "cell_type": "code",
   "execution_count": 16,
   "id": "b8d0fcba-4caa-484d-8766-01382e46637a",
   "metadata": {},
   "outputs": [],
   "source": [
    "# pip install --upgrade accelerate"
   ]
  },
  {
   "cell_type": "code",
   "execution_count": 17,
   "id": "f73176b7-2bc5-4d8f-b608-8c93ec8e59c9",
   "metadata": {},
   "outputs": [],
   "source": [
    "# pip install accelerate>=0.26.0"
   ]
  },
  {
   "cell_type": "code",
   "execution_count": 18,
   "id": "62b8ea6c-c4ee-4939-9ce2-0c849bd87e1d",
   "metadata": {},
   "outputs": [
    {
     "name": "stderr",
     "output_type": "stream",
     "text": [
      "C:\\Users\\sarth\\AppData\\Local\\Programs\\Python\\Python312\\Lib\\site-packages\\torch\\utils\\data\\dataloader.py:665: UserWarning: 'pin_memory' argument is set as true but no accelerator is found, then device pinned memory won't be used.\n",
      "  warnings.warn(warn_msg)\n"
     ]
    },
    {
     "data": {
      "text/html": [
       "\n",
       "    <div>\n",
       "      \n",
       "      <progress value='939' max='939' style='width:300px; height:20px; vertical-align: middle;'></progress>\n",
       "      [939/939 32:58, Epoch 1/1]\n",
       "    </div>\n",
       "    <table border=\"1\" class=\"dataframe\">\n",
       "  <thead>\n",
       " <tr style=\"text-align: left;\">\n",
       "      <th>Step</th>\n",
       "      <th>Training Loss</th>\n",
       "    </tr>\n",
       "  </thead>\n",
       "  <tbody>\n",
       "    <tr>\n",
       "      <td>500</td>\n",
       "      <td>2.060900</td>\n",
       "    </tr>\n",
       "  </tbody>\n",
       "</table><p>"
      ],
      "text/plain": [
       "<IPython.core.display.HTML object>"
      ]
     },
     "metadata": {},
     "output_type": "display_data"
    }
   ],
   "source": [
    "# !pip install transformers[torch]\n",
    "model.fit(\n",
    "    train_objectives=[(train_dataloader, train_loss)],\n",
    "    epochs=1,\n",
    "    warmup_steps=100\n",
    ")"
   ]
  },
  {
   "cell_type": "code",
   "execution_count": 19,
   "id": "f68ba793-33de-434e-afc7-0f50d6337baa",
   "metadata": {},
   "outputs": [],
   "source": [
    "model.save(\"quote-retrievel-model/\")"
   ]
  }
 ],
 "metadata": {
  "kernelspec": {
   "display_name": "Python 3 (ipykernel)",
   "language": "python",
   "name": "python3"
  },
  "language_info": {
   "codemirror_mode": {
    "name": "ipython",
    "version": 3
   },
   "file_extension": ".py",
   "mimetype": "text/x-python",
   "name": "python",
   "nbconvert_exporter": "python",
   "pygments_lexer": "ipython3",
   "version": "3.12.0"
  }
 },
 "nbformat": 4,
 "nbformat_minor": 5
}
