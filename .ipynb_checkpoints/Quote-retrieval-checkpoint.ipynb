{
 "cells": [
  {
   "cell_type": "code",
   "execution_count": null,
   "id": "30b87d1e-5f03-41ed-a8e3-a186a49b7498",
   "metadata": {},
   "outputs": [],
   "source": [
    "# pip install transformers datasets huggingface_hub"
   ]
  },
  {
   "cell_type": "code",
   "execution_count": null,
   "id": "65c083fc-befa-450e-8655-6774f68f5e7e",
   "metadata": {},
   "outputs": [],
   "source": [
    "from datasets import load_dataset\n",
    "ds = load_dataset(\"Abirate/english_quotes\")"
   ]
  },
  {
   "cell_type": "code",
   "execution_count": null,
   "id": "4a1ead20-d0ad-41ef-9160-e6e44d8567cb",
   "metadata": {},
   "outputs": [],
   "source": [
    "data_f=ds[\"train\"].to_pandas()"
   ]
  },
  {
   "cell_type": "code",
   "execution_count": null,
   "id": "4e617905-df0a-4219-ac74-6e9c4087e848",
   "metadata": {},
   "outputs": [],
   "source": [
    "data_f.head()"
   ]
  },
  {
   "cell_type": "code",
   "execution_count": null,
   "id": "964ce8e5-ed5c-41d0-b933-741fe4198eeb",
   "metadata": {},
   "outputs": [],
   "source": [
    "from nltk.corpus import stopwords\n",
    "stop_words = set(stopwords.words('english'))"
   ]
  },
  {
   "cell_type": "code",
   "execution_count": null,
   "id": "dbf3d096-7834-4423-bfd6-ffe5ae39aaf7",
   "metadata": {},
   "outputs": [],
   "source": [
    "data_f['clean_quote']=data_f['quote'].str.lower()\n",
    "data_f['clean_quote'] = data_f['clean_quote'].apply(lambda x: ' '.join(\n",
    "    [word for word in str(x).split() if word.lower() not in stop_words]\n",
    "))"
   ]
  },
  {
   "cell_type": "code",
   "execution_count": null,
   "id": "0676690c-aaf6-4a04-a40e-20dd85fb1d4b",
   "metadata": {},
   "outputs": [],
   "source": [
    "import string\n",
    "def remove_punctuation(text):\n",
    "    return text.translate(str.maketrans('', '', string.punctuation))\n",
    "\n",
    "data_f['clean_quote'] = data_f['clean_quote'].apply(remove_punctuation)"
   ]
  },
  {
   "cell_type": "code",
   "execution_count": null,
   "id": "90e1f695-9a28-4499-806e-8c1f7c738017",
   "metadata": {},
   "outputs": [],
   "source": [
    "import random\n",
    "\n",
    "def generate_queries(row):\n",
    "    author = row[\"author\"]\n",
    "    tags = row[\"tags\"]\n",
    "    queries = []\n",
    "\n",
    "    # Basic templates\n",
    "    queries.append(f\"{author} quotes\")\n",
    "    queries.append(f\"Quotes by {author}\")\n",
    "    \n",
    "    if tags is not None and len(tags) > 0:\n",
    "        tag = random.choice(tags)\n",
    "        queries.append(f\"{author} quotes about {tag}\")\n",
    "        queries.append(f\"Quotes tagged with {tag}\")\n",
    "        queries.append(f\"Famous quotes on {tag}\")\n",
    "        queries.append(f\"Quotes related to {tag} by {author}\")\n",
    "\n",
    "    return queries\n",
    "\n",
    "# Generate a list of (query, quote) pairs\n",
    "training_data = []\n",
    "\n",
    "for _, row in data_f.iterrows():\n",
    "    quote = row['clean_quote']\n",
    "    queries = generate_queries(row)\n",
    "    for query in queries:\n",
    "        training_data.append((query, quote))"
   ]
  },
  {
   "cell_type": "code",
   "execution_count": null,
   "id": "b34ddf56-6266-45f6-b6c1-b11175134c14",
   "metadata": {},
   "outputs": [],
   "source": [
    "# training_data[::5]"
   ]
  },
  {
   "cell_type": "code",
   "execution_count": null,
   "id": "36dcaae9-152f-4b17-b31a-af8687c7ab1f",
   "metadata": {},
   "outputs": [],
   "source": [
    "# pip install sentence-transformers"
   ]
  },
  {
   "cell_type": "code",
   "execution_count": null,
   "id": "b92d0727-0c69-4001-94b8-fbaa788f4448",
   "metadata": {},
   "outputs": [],
   "source": [
    "from sentence_transformers import InputExample\n",
    "\n",
    "train_examples = [\n",
    "    InputExample(texts=[query, quote]) for query, quote in training_data]"
   ]
  },
  {
   "cell_type": "code",
   "execution_count": null,
   "id": "4a1dc717-ebbe-4f2b-9489-2a981b958d55",
   "metadata": {},
   "outputs": [],
   "source": [
    "from torch.utils.data import DataLoader\n",
    "\n",
    "train_dataloader = DataLoader(train_examples, shuffle=True, batch_size=16)"
   ]
  },
  {
   "cell_type": "code",
   "execution_count": null,
   "id": "dc328103-5e35-457e-8a10-bf7404d929b4",
   "metadata": {},
   "outputs": [],
   "source": [
    "from sentence_transformers import SentenceTransformer, losses\n",
    "\n",
    "model = SentenceTransformer('all-MiniLM-L6-v2')  # small & fast\n"
   ]
  },
  {
   "cell_type": "code",
   "execution_count": null,
   "id": "d61feedf-50a8-47dd-985d-14755e78e2b4",
   "metadata": {},
   "outputs": [],
   "source": [
    "train_loss = losses.MultipleNegativesRankingLoss(model)"
   ]
  },
  {
   "cell_type": "code",
   "execution_count": null,
   "id": "b8d0fcba-4caa-484d-8766-01382e46637a",
   "metadata": {},
   "outputs": [],
   "source": [
    "# pip install --upgrade accelerate"
   ]
  },
  {
   "cell_type": "code",
   "execution_count": null,
   "id": "f73176b7-2bc5-4d8f-b608-8c93ec8e59c9",
   "metadata": {},
   "outputs": [],
   "source": [
    "# pip install accelerate>=0.26.0"
   ]
  },
  {
   "cell_type": "code",
   "execution_count": null,
   "id": "62b8ea6c-c4ee-4939-9ce2-0c849bd87e1d",
   "metadata": {},
   "outputs": [],
   "source": [
    "# !pip install transformers[torch]\n",
    "model.fit(\n",
    "    train_objectives=[(train_dataloader, train_loss)],\n",
    "    epochs=1,\n",
    "    warmup_steps=100,\n",
    "    steps_per_epoch=100\n",
    ")"
   ]
  },
  {
   "cell_type": "code",
   "execution_count": null,
   "id": "96a9946f-9134-4e47-bc24-cc9db5799ade",
   "metadata": {},
   "outputs": [],
   "source": [
    "# Assuming `model` is the same object you trained\n",
    "query = \"Show some quotes about Imagination by Einstein\"\n",
    "all_quotes = data_f[\"quote\"].tolist()\n",
    "\n",
    "from sentence_transformers import util\n",
    "quote_embeddings = model.encode(all_quotes, convert_to_tensor=True)\n",
    "query_embedding = model.encode(query, convert_to_tensor=True)\n",
    "cosine_scores = util.cos_sim(query_embedding, quote_embeddings)[0]\n",
    "\n",
    "top_k = 5\n",
    "top_results = cosine_scores.argsort(descending=True)[:top_k]\n",
    "\n",
    "print(f\"\\n🔍 Query: {query}\\n\")\n",
    "for idx in top_results.tolist():  # convert tensor to list of ints\n",
    "    print(f\"✅ Score: {cosine_scores[idx]:.4f}\")\n",
    "    print(f\"🧠 Author: {data_f.iloc[idx]['author']}\")\n",
    "    print(f\"📜 Quote: {all_quotes[idx]}\")\n",
    "    print(\"---\")"
   ]
  },
  {
   "cell_type": "code",
   "execution_count": null,
   "id": "f68ba793-33de-434e-afc7-0f50d6337baa",
   "metadata": {},
   "outputs": [],
   "source": [
    "model.save(\"proto/\")"
   ]
  },
  {
   "cell_type": "code",
   "execution_count": null,
   "id": "26bccd3f-76a5-4eec-ba47-400406111418",
   "metadata": {},
   "outputs": [],
   "source": []
  }
 ],
 "metadata": {
  "kernelspec": {
   "display_name": "Python 3 (ipykernel)",
   "language": "python",
   "name": "python3"
  },
  "language_info": {
   "codemirror_mode": {
    "name": "ipython",
    "version": 3
   },
   "file_extension": ".py",
   "mimetype": "text/x-python",
   "name": "python",
   "nbconvert_exporter": "python",
   "pygments_lexer": "ipython3",
   "version": "3.12.0"
  }
 },
 "nbformat": 4,
 "nbformat_minor": 5
}
